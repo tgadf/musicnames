{
 "cells": [
  {
   "cell_type": "markdown",
   "metadata": {},
   "source": [
    "# Creator"
   ]
  },
  {
   "cell_type": "code",
   "execution_count": 1,
   "metadata": {},
   "outputs": [
    {
     "data": {
      "text/html": [
       "<style>.container { width:100% !important; }</style>"
      ],
      "text/plain": [
       "<IPython.core.display.HTML object>"
      ]
     },
     "metadata": {},
     "output_type": "display_data"
    },
    {
     "data": {
      "text/html": [
       "<style>div.output_area{max-height:10000px;overflow:scroll;}</style>"
      ],
      "text/plain": [
       "<IPython.core.display.HTML object>"
      ]
     },
     "metadata": {},
     "output_type": "display_data"
    },
    {
     "name": "stderr",
     "output_type": "stream",
     "text": [
      "/Users/tgadfort/opt/anaconda3/envs/py37/lib/python3.7/site-packages/sklearn/externals/joblib/__init__.py:15: FutureWarning: sklearn.externals.joblib is deprecated in 0.21 and will be removed in 0.23. Please import this functionality directly from joblib, which can be installed with: pip install joblib. If this warning is raised when loading pickled models, you may need to re-serialize those models with scikit-learn 0.21+.\n",
      "  warnings.warn(msg, category=FutureWarning)\n"
     ]
    }
   ],
   "source": [
    "## Basic stuff\n",
    "%load_ext autoreload\n",
    "%autoreload\n",
    "\n",
    "from IPython.core.display import display, HTML\n",
    "display(HTML(\"<style>.container { width:100% !important; }</style>\"))\n",
    "display(HTML(\"\"\"<style>div.output_area{max-height:10000px;overflow:scroll;}</style>\"\"\"))\n",
    "\n",
    "from masterArtistNameDB import masterArtistNameDB\n",
    "from masterArtistNameCorrection import masterArtistNameCorrection\n",
    "from masterArtistMerger import masterArtistMerger\n",
    "from findMergerData import findMergerData"
   ]
  },
  {
   "cell_type": "code",
   "execution_count": 11,
   "metadata": {},
   "outputs": [
    {
     "name": "stdout",
     "output_type": "stream",
     "text": [
      "/Users/tgadfort/opt/anaconda3/envs/py37/lib/python3.7/site-packages/sklearn/externals/joblib/__init__.py:15: FutureWarning: sklearn.externals.joblib is deprecated in 0.21 and will be removed in 0.23. Please import this functionality directly from joblib, which can be installed with: pip install joblib. If this warning is raised when loading pickled models, you may need to re-serialize those models with scikit-learn 0.21+.\n",
      "  warnings.warn(msg, category=FutureWarning)\n",
      "running install\n",
      "running build\n",
      "running build_py\n",
      "running install_lib\n",
      "running install_egg_info\n",
      "running egg_info\n",
      "writing musicnames.egg-info/PKG-INFO\n",
      "writing dependency_links to musicnames.egg-info/dependency_links.txt\n",
      "writing requirements to musicnames.egg-info/requires.txt\n",
      "writing top-level names to musicnames.egg-info/top_level.txt\n",
      "reading manifest file 'musicnames.egg-info/SOURCES.txt'\n",
      "writing manifest file 'musicnames.egg-info/SOURCES.txt'\n",
      "removing '/Users/tgadfort/opt/anaconda3/envs/py37/lib/python3.7/site-packages/musicnames-0.0.1-py3.7.egg-info' (and everything under it)\n",
      "Copying musicnames.egg-info to /Users/tgadfort/opt/anaconda3/envs/py37/lib/python3.7/site-packages/musicnames-0.0.1-py3.7.egg-info\n",
      "running install_scripts\n",
      "========================= masterArtistMerger =========================\n",
      "========================= masterArtistNameDB(\"main\") =========================\n",
      "========================= masterArtistNameDB(\"multi\") =========================\n",
      "Install: Creating Prefix Data From Local Data\n",
      "Current Time is Tue Oct 05, 2021 14:10 for Writing To Main Pickle From Local YAML\n",
      "Current Time is Tue Oct 05, 2021 14:10 for Getting Manual Renames Data From Local YAML File\n",
      "Process [Getting Manual Renames Data From Local YAML File] Took 0.1 Seconds\n",
      "Current Time is Tue Oct 05, 2021 14:10 for Saving Manual Renames Data To Main Pickle File\n",
      "Process [Saving Manual Renames Data To Main Pickle File] Took 0.0 Seconds\n",
      "Process [Writing To Main Pickle From Local YAML] Took 0.1 Seconds\n"
     ]
    }
   ],
   "source": [
    "!python setup.py install"
   ]
  },
  {
   "cell_type": "code",
   "execution_count": null,
   "metadata": {},
   "outputs": [],
   "source": [
    "from convertByteString import convertByteString\n",
    "\n",
    "class masterArtistNameCorrection:\n",
    "    def __init__(self, debug=False):\n",
    "        self.debug = debug\n",
    "        self.cbs = convertByteString()\n",
    "\n",
    "        ## Test\n",
    "        assert self.clean(\"3/3\") == \"3-3\"\n",
    "        assert self.clean(\"...Hello\") == \"Hello\"\n",
    "        \n",
    "\n",
    "    def directoryName(self, x):\n",
    "        if x is None:\n",
    "            return x\n",
    "        if \"...\" in x:\n",
    "            x = x.replace(\"...\", \"\")\n",
    "        if \"/\" in x:\n",
    "            x = x.replace(\"/\", \"-\")\n",
    "        return x\n",
    "\n",
    "\n",
    "    def realName(self, x):\n",
    "        if x is None:\n",
    "            return [None,-1]\n",
    "\n",
    "        lenx = len(x)\n",
    "        if len(x) < 1:\n",
    "            return [x,-1]\n",
    "\n",
    "        if x[-1] != \")\":\n",
    "            return [x, None]\n",
    "\n",
    "\n",
    "        if lenx >=5:\n",
    "            if x[-3] == \"(\":\n",
    "                try:\n",
    "                    num = int(x[-2:-1])\n",
    "                    val = x[:-3].strip()\n",
    "                    return [val, num]\n",
    "                except:\n",
    "                    return [x, None]\n",
    "\n",
    "        if lenx >= 6:\n",
    "            if x[-4] == \"(\":\n",
    "                try:\n",
    "                    num = int(x[-3:-1])\n",
    "                    val = x[:-4].strip()\n",
    "                    return [val, num]\n",
    "                except:\n",
    "                    return [x, None]\n",
    "\n",
    "        if lenx >= 7:\n",
    "            if x[-4] == \"(\":\n",
    "                try:\n",
    "                    num = int(x[-3:-1])\n",
    "                    val = x[:-4].strip()\n",
    "                    return [val, num]\n",
    "                except:\n",
    "                    return [x, None]\n",
    "\n",
    "        return [x, None]\n",
    "\n",
    "    \n",
    "    def discConv(self, x):\n",
    "        if x is None:\n",
    "            return \"\"\n",
    "        x = x.replace(\"/\", \"-\")\n",
    "        x = x.replace(\"¡\", \"\")\n",
    "        while x.startswith(\".\") and len(x) > 1:\n",
    "            x = x[1:]\n",
    "        x = x.strip()\n",
    "        x = self.cbs.convert(x)\n",
    "        return x\n",
    "\n",
    "    \n",
    "    def cleanMB(self, x):\n",
    "        pos = [x.rfind(\"(\")+1, x.rfind(\")\")]\n",
    "        if sum([p > 0 for p in pos]) != len(pos):\n",
    "            return x\n",
    "        parval = x[pos[0]:pos[1]]\n",
    "        return x[:pos[0]-2].strip()  \n",
    "        \n",
    "        \n",
    "    def clean(self, name):\n",
    "        if self.debug:\n",
    "            print(\"Pre Cleaning  [{0}]\".format(name))\n",
    "        name = self.discConv(name)\n",
    "        if self.debug:\n",
    "            print(\"Post Cleaning [{0}]\".format(name))\n",
    "        return name"
   ]
  },
  {
   "cell_type": "code",
   "execution_count": 50,
   "metadata": {},
   "outputs": [],
   "source": []
  },
  {
   "cell_type": "code",
   "execution_count": 54,
   "metadata": {},
   "outputs": [
    {
     "data": {
      "text/plain": [
       "'Maria Lătăreţu'"
      ]
     },
     "execution_count": 54,
     "metadata": {},
     "output_type": "execute_result"
    }
   ],
   "source": [
    "name = \"Maria Lătăreţu (42)\"\n",
    "manc = masterArtistNameCreator(\"Discogs\", debug=False)\n",
    "manc.getArtistName(name)"
   ]
  },
  {
   "cell_type": "code",
   "execution_count": 55,
   "metadata": {},
   "outputs": [
    {
     "data": {
      "text/plain": [
       "1000              Dave Clarke\n",
       "10000               Moonchild\n",
       "1000000     Maria Lătăreţu\n",
       "10000000        Rivo Mehilane\n",
       "10000300       Carmine Caputo\n",
       "                  ...        \n",
       "999800         Freek van Daal\n",
       "9998200      Celtic Folk Punk\n",
       "9998500                Pamela\n",
       "9998800               DJ Linx\n",
       "9999100           Nghi Martin\n",
       "Length: 77952, dtype: object"
      ]
     },
     "execution_count": 55,
     "metadata": {},
     "output_type": "execute_result"
    }
   ],
   "source": [
    "artistMetadata.apply(lambda x: manc.getArtistName(x[0]))"
   ]
  },
  {
   "cell_type": "code",
   "execution_count": 25,
   "metadata": {},
   "outputs": [
    {
     "name": "stdout",
     "output_type": "stream",
     "text": [
      "(6, 11)\n",
      "Pamela\n"
     ]
    }
   ],
   "source": [
    "name = \"Pamela (42)\""
   ]
  },
  {
   "cell_type": "code",
   "execution_count": 21,
   "metadata": {},
   "outputs": [
    {
     "data": {
      "text/plain": [
       "10"
      ]
     },
     "execution_count": 21,
     "metadata": {},
     "output_type": "execute_result"
    }
   ],
   "source": [
    "len(name)"
   ]
  },
  {
   "cell_type": "code",
   "execution_count": 18,
   "metadata": {},
   "outputs": [
    {
     "data": {
      "text/plain": [
       "(6, 11)"
      ]
     },
     "execution_count": 18,
     "metadata": {},
     "output_type": "execute_result"
    }
   ],
   "source": [
    "result.span()"
   ]
  },
  {
   "cell_type": "code",
   "execution_count": 3,
   "metadata": {},
   "outputs": [],
   "source": [
    "from masterDBGate import masterDBGate\n",
    "from searchUtils import findPatternExt\n",
    "from fileIO import fileIO\n",
    "mdbGate = masterDBGate()\n",
    "discs = mdbGate.getDiscs()\n",
    "io = fileIO()"
   ]
  },
  {
   "cell_type": "code",
   "execution_count": 4,
   "metadata": {},
   "outputs": [],
   "source": [
    "modVal = 0\n",
    "artistMetadata = io.get(discs[\"Discogs\"].getArtistsDBModValMetadataFilename(modVal))\n",
    "albumsMetadata = io.get(discs[\"Discogs\"].getArtistsDBModValAlbumsMetadataFilename(modVal))"
   ]
  },
  {
   "cell_type": "code",
   "execution_count": null,
   "metadata": {},
   "outputs": [],
   "source": [
    "artistIDToCleanName = {db: disc.getArtistIDToPreMergeNameData().apply(lambda x: manc.realName(x)[0]).apply(manc.clean).apply(cbs.convert) for db,disc in mDiscs.items()}\n"
   ]
  },
  {
   "cell_type": "code",
   "execution_count": 17,
   "metadata": {},
   "outputs": [
    {
     "ename": "NameError",
     "evalue": "name 'cbs' is not defined",
     "output_type": "error",
     "traceback": [
      "\u001b[0;31m---------------------------------------------------------------------------\u001b[0m",
      "\u001b[0;31mNameError\u001b[0m                                 Traceback (most recent call last)",
      "\u001b[0;32m<ipython-input-17-f54d66fab8e4>\u001b[0m in \u001b[0;36m<module>\u001b[0;34m\u001b[0m\n\u001b[1;32m      1\u001b[0m \u001b[0mmanc\u001b[0m \u001b[0;34m=\u001b[0m \u001b[0mmasterArtistNameCorrection\u001b[0m\u001b[0;34m(\u001b[0m\u001b[0;34m)\u001b[0m\u001b[0;34m\u001b[0m\u001b[0;34m\u001b[0m\u001b[0m\n\u001b[0;32m----> 2\u001b[0;31m \u001b[0martistMetadata\u001b[0m\u001b[0;34m.\u001b[0m\u001b[0mapply\u001b[0m\u001b[0;34m(\u001b[0m\u001b[0;32mlambda\u001b[0m \u001b[0mx\u001b[0m\u001b[0;34m:\u001b[0m \u001b[0mmanc\u001b[0m\u001b[0;34m.\u001b[0m\u001b[0mrealName\u001b[0m\u001b[0;34m(\u001b[0m\u001b[0mx\u001b[0m\u001b[0;34m[\u001b[0m\u001b[0;36m0\u001b[0m\u001b[0;34m]\u001b[0m\u001b[0;34m)\u001b[0m\u001b[0;34m[\u001b[0m\u001b[0;36m0\u001b[0m\u001b[0;34m]\u001b[0m\u001b[0;34m)\u001b[0m\u001b[0;34m.\u001b[0m\u001b[0mapply\u001b[0m\u001b[0;34m(\u001b[0m\u001b[0mmanc\u001b[0m\u001b[0;34m.\u001b[0m\u001b[0mclean\u001b[0m\u001b[0;34m)\u001b[0m\u001b[0;34m.\u001b[0m\u001b[0mapply\u001b[0m\u001b[0;34m(\u001b[0m\u001b[0mcbs\u001b[0m\u001b[0;34m.\u001b[0m\u001b[0mconvert\u001b[0m\u001b[0;34m)\u001b[0m\u001b[0;34m\u001b[0m\u001b[0;34m\u001b[0m\u001b[0m\n\u001b[0m",
      "\u001b[0;31mNameError\u001b[0m: name 'cbs' is not defined"
     ]
    }
   ],
   "source": [
    "manc = masterArtistNameCorrection()\n",
    "artistMetadata.apply(lambda x: manc.realName(x[0])[0]).apply(manc.clean).apply(cbs.convert)"
   ]
  },
  {
   "cell_type": "code",
   "execution_count": null,
   "metadata": {},
   "outputs": [],
   "source": [
    "\n",
    "        artistMetadataDBDir = self.disc.getArtistsMetadataDBDir()\n",
    "        files = findPatternExt(artistMetadataDBDir, pattern=\"-Metadata\", ext='.p')\n",
    "\n",
    "        for i,ifile in enumerate(sorted(files)):\n",
    "            print(ifile,' \\t',end=\"\")\n",
    "            db = getFile(ifile)\n",
    "            artistIDToName.update({k: v[0] for k,v in db.items()})\n",
    "            artistIDToRef.update({k: v[1] for k,v in db.items()})\n",
    "            #artistIDToVariations.update({k: v[2] for k,v in db.items()})\n",
    "\n"
   ]
  },
  {
   "cell_type": "markdown",
   "metadata": {},
   "source": [
    "# Master Artist Name DB"
   ]
  },
  {
   "cell_type": "code",
   "execution_count": 12,
   "metadata": {},
   "outputs": [
    {
     "name": "stdout",
     "output_type": "stream",
     "text": [
      "========================= masterArtistNameDB(\"main\") =========================\n",
      "Current Time is Tue Oct 05, 2021 14:10 for Getting Manual Renames Data From Main Pickle File\n",
      "Process [Getting Manual Renames Data From Main Pickle File] Took 0.1 Seconds\n",
      "  No duplicate key/values in manual renames\n",
      "  No recursive key/values in manual renames\n",
      "masterArtistNameDB(\"main\") Summary:\n",
      "  Entries: 45021\n",
      "  Artists: 34171\n",
      "========================= masterArtistNameDB(\"multi\") =========================\n",
      "Current Time is Tue Oct 05, 2021 14:10 for Getting Manual Renames Data From Main Pickle File\n",
      "Process [Getting Manual Renames Data From Main Pickle File] Took 0.0 Seconds\n",
      "  No duplicate key/values in manual renames\n",
      "  No recursive key/values in manual renames\n",
      "masterArtistNameDB(\"multi\") Summary:\n",
      "  Entries: 705\n",
      "  Artists: 644\n"
     ]
    }
   ],
   "source": [
    "mandb   = masterArtistNameDB(\"main\")\n",
    "multidb = masterArtistNameDB(\"multi\")"
   ]
  },
  {
   "cell_type": "code",
   "execution_count": null,
   "metadata": {},
   "outputs": [],
   "source": [
    "mData = mandb.getData()\n",
    "mData.head(3)"
   ]
  },
  {
   "cell_type": "code",
   "execution_count": null,
   "metadata": {},
   "outputs": [],
   "source": [
    "mandb.writeToLocalYamlFromMainPickle()\n",
    "multidb.writeToLocalYamlFromMainPickle()"
   ]
  },
  {
   "cell_type": "markdown",
   "metadata": {},
   "source": [
    "# Master Artist Name Correction"
   ]
  },
  {
   "cell_type": "code",
   "execution_count": null,
   "metadata": {},
   "outputs": [],
   "source": [
    "manc = masterArtistNameCorrection()"
   ]
  },
  {
   "cell_type": "code",
   "execution_count": null,
   "metadata": {},
   "outputs": [],
   "source": [
    "manc.clean(\"3/3\")"
   ]
  },
  {
   "cell_type": "markdown",
   "metadata": {},
   "source": [
    "# Master Artist Merger"
   ]
  },
  {
   "cell_type": "code",
   "execution_count": 3,
   "metadata": {},
   "outputs": [
    {
     "name": "stdout",
     "output_type": "stream",
     "text": [
      "========================= masterArtistMerger =========================\n"
     ]
    }
   ],
   "source": [
    "mam = masterArtistMerger(install=True)"
   ]
  },
  {
   "cell_type": "code",
   "execution_count": 15,
   "metadata": {},
   "outputs": [
    {
     "name": "stdout",
     "output_type": "stream",
     "text": [
      "Current Time is Sun Oct 31, 2021 12:25 for Getting Manual Mergers Data From Local YAML File\n",
      "Process [Getting Manual Mergers Data From Local YAML File] Took 3.5 Seconds\n",
      "Current Time is Sun Oct 31, 2021 12:25 for Saving Manual Mergers Data To Local YAML File\n",
      "Process [Saving Manual Mergers Data To Local YAML File] Took 2.0 Seconds\n",
      "Current Time is Sun Oct 31, 2021 12:25 for Saving Manual Mergers Data To Local Pickle File\n",
      "Process [Saving Manual Mergers Data To Local Pickle File] Took 0.1 Seconds\n",
      "Current Time is Sun Oct 31, 2021 12:25 for Saving Manual Mergers Data To Main Pickle File\n",
      "Process [Saving Manual Mergers Data To Main Pickle File] Took 0.1 Seconds\n"
     ]
    }
   ],
   "source": [
    "from convertByteString import convertByteString\n",
    "cbs = convertByteString()\n",
    "\n",
    "tmp = mam.getData(local=True, fast=False)\n",
    "saveData = {cbs.convert(k): v for k,v in tmp.items()}\n",
    "mam.saveData(manualMergers=tmp, local=True, fast=False)\n",
    "mam.saveData(manualMergers=tmp, local=True, fast=True)\n",
    "mam.saveData(manualMergers=tmp, local=False, fast=True)"
   ]
  },
  {
   "cell_type": "code",
   "execution_count": 17,
   "metadata": {},
   "outputs": [
    {
     "name": "stdout",
     "output_type": "stream",
     "text": [
      "========================= masterArtistMerger =========================\n",
      "Current Time is Sun Oct 31, 2021 17:01 for Getting Manual Mergers Data From Main Pickle File\n",
      "Process [Getting Manual Mergers Data From Main Pickle File] Took 0.1 Seconds\n",
      "masterArtistMerger Summary:\n",
      "  DB ID Entries: 7195\n",
      "  DB Entries:    2033\n",
      "  Artists:       684\n"
     ]
    },
    {
     "data": {
      "text/plain": [
       "'10003291524'"
      ]
     },
     "execution_count": 17,
     "metadata": {},
     "output_type": "execute_result"
    }
   ],
   "source": [
    "mam = masterArtistMerger()\n",
    "mam.genMergerID(\"RateYourMusic\")"
   ]
  },
  {
   "cell_type": "code",
   "execution_count": 20,
   "metadata": {},
   "outputs": [],
   "source": [
    "from masterDBGate import masterDBGate\n",
    "mdbGate = masterDBGate()\n",
    "mDiscs  = mdbGate.getDiscs()"
   ]
  },
  {
   "cell_type": "code",
   "execution_count": 34,
   "metadata": {},
   "outputs": [
    {
     "name": "stdout",
     "output_type": "stream",
     "text": [
      "Current Time is Sun Oct 31, 2021 17:21 for Getting Disc Data\n",
      "Process [Getting Disc Data] Took 43.8 Seconds\n"
     ]
    }
   ],
   "source": [
    "from timeUtils import timestat\n",
    "ts = timestat(\"Getting Disc Data\")\n",
    "discData = {db: DataFrame(Series(mDisc.getArtistIDToPreMergeNameData(), name=\"ArtistName\")).join(Series(mDisc.getArtistIDToPreMergeRefData(), name=\"ArtistRef\")) for db,mDisc in mDiscs.items()}\n",
    "ts.stop()"
   ]
  },
  {
   "cell_type": "code",
   "execution_count": 35,
   "metadata": {},
   "outputs": [],
   "source": [
    "x = \"Alice Cooper\""
   ]
  },
  {
   "cell_type": "code",
   "execution_count": 36,
   "metadata": {},
   "outputs": [
    {
     "data": {
      "text/html": [
       "<div>\n",
       "<style scoped>\n",
       "    .dataframe tbody tr th:only-of-type {\n",
       "        vertical-align: middle;\n",
       "    }\n",
       "\n",
       "    .dataframe tbody tr th {\n",
       "        vertical-align: top;\n",
       "    }\n",
       "\n",
       "    .dataframe thead th {\n",
       "        text-align: right;\n",
       "    }\n",
       "</style>\n",
       "<table border=\"1\" class=\"dataframe\">\n",
       "  <thead>\n",
       "    <tr style=\"text-align: right;\">\n",
       "      <th></th>\n",
       "      <th>ArtistName</th>\n",
       "      <th>ArtistRef</th>\n",
       "    </tr>\n",
       "  </thead>\n",
       "  <tbody>\n",
       "    <tr>\n",
       "      <th>553</th>\n",
       "      <td>Alice Cooper</td>\n",
       "      <td>https://rateyourmusic.com/artist/alice_cooper</td>\n",
       "    </tr>\n",
       "  </tbody>\n",
       "</table>\n",
       "</div>"
      ],
      "text/plain": [
       "       ArtistName                                      ArtistRef\n",
       "553  Alice Cooper  https://rateyourmusic.com/artist/alice_cooper"
      ]
     },
     "execution_count": 36,
     "metadata": {},
     "output_type": "execute_result"
    }
   ],
   "source": [
    "discData[\"RateYourMusic\"][discData[\"RateYourMusic\"][\"ArtistName\"] == x]"
   ]
  },
  {
   "cell_type": "code",
   "execution_count": null,
   "metadata": {},
   "outputs": [],
   "source": [
    "def getArtistMasterMatches(artistName, masterDFs, mergers, equal=False):\n",
    "    print(\"  ArtistName: {0}\".format(artistName))\n",
    "    for db in masterDFs.keys():\n",
    "        if mergers[db].get(artistName) is not None:\n",
    "            print(\"  {0}: '{1}'\".format(db,mergers[db][artistName]))\n",
    "            continue\n",
    "\n",
    "        if equal is True:\n",
    "            retval = masterDFs[db][masterDFs[db][\"MergerDiscArtist\"] == artistName][[\"ArtistName\", \"Ref\"]].T.to_dict()\n",
    "        else:\n",
    "            retval = masterDFs[db][masterDFs[db][\"MergerDiscArtist\"].str.contains(artistName)][[\"ArtistName\", \"Ref\"]].T.to_dict()\n",
    "        idxs   = list(retval.keys())\n",
    "        if len(idxs) == 0:\n",
    "            continue\n",
    "\n",
    "        if len(retval) == 1:\n",
    "            print(\"  {0}: '{1}'\".format(db,idxs[0]))\n",
    "        else:\n",
    "            print(\"  {0}: {1}\".format(db,idxs))"
   ]
  },
  {
   "cell_type": "code",
   "execution_count": null,
   "metadata": {},
   "outputs": [],
   "source": [
    "\n",
    "\n",
    "# MergeArtist\n",
    "artists=\"\"\"\n",
    "Tony Pastor\n",
    "\"\"\".split(\"\\n\")\n",
    "artists = [x.replace(\"# \", \"\") for x in artists]\n",
    "artists = [x for x in artists if len(x) > 0]\n",
    "print(artists)\n",
    "\n",
    "for db in masterDFs.keys():\n",
    "    idata = {}\n",
    "    for artistName in artists:\n",
    "        retval = masterDFs[db][masterDFs[db][\"ArtistName\"].str.contains(artistName)][[\"ArtistName\", \"Ref\"]].T.to_dict()\n",
    "        if len(retval) >= 2:\n",
    "            idata[artistName] = retval\n",
    "    print(db,len(idata))\n",
    "    if len(idata) > 0:\n",
    "        saveFile(idata=idata, ifile=\"update{0}.yaml\".format(db))"
   ]
  },
  {
   "cell_type": "code",
   "execution_count": 33,
   "metadata": {},
   "outputs": [
    {
     "data": {
      "text/html": [
       "<div>\n",
       "<style scoped>\n",
       "    .dataframe tbody tr th:only-of-type {\n",
       "        vertical-align: middle;\n",
       "    }\n",
       "\n",
       "    .dataframe tbody tr th {\n",
       "        vertical-align: top;\n",
       "    }\n",
       "\n",
       "    .dataframe thead th {\n",
       "        text-align: right;\n",
       "    }\n",
       "</style>\n",
       "<table border=\"1\" class=\"dataframe\">\n",
       "  <thead>\n",
       "    <tr style=\"text-align: right;\">\n",
       "      <th></th>\n",
       "      <th>ArtistName</th>\n",
       "      <th>ArtistRef</th>\n",
       "    </tr>\n",
       "  </thead>\n",
       "  <tbody>\n",
       "    <tr>\n",
       "      <th>100</th>\n",
       "      <td>Sun Ra</td>\n",
       "      <td>https://rateyourmusic.com/artist/sun-ra</td>\n",
       "    </tr>\n",
       "    <tr>\n",
       "      <th>100000</th>\n",
       "      <td>Yvette Horner</td>\n",
       "      <td>https://rateyourmusic.com/artist/yvette-horner</td>\n",
       "    </tr>\n",
       "    <tr>\n",
       "      <th>1007400</th>\n",
       "      <td>Suffering Hour</td>\n",
       "      <td>https://rateyourmusic.com/artist/suffering_hour</td>\n",
       "    </tr>\n",
       "    <tr>\n",
       "      <th>1017800</th>\n",
       "      <td>Telepath Telepathy Noryokusha</td>\n",
       "      <td>https://rateyourmusic.com/artist/telepath-テレパシ...</td>\n",
       "    </tr>\n",
       "    <tr>\n",
       "      <th>1031700</th>\n",
       "      <td>Years &amp; Years</td>\n",
       "      <td>https://rateyourmusic.com/artist/years_and_years</td>\n",
       "    </tr>\n",
       "    <tr>\n",
       "      <th>...</th>\n",
       "      <td>...</td>\n",
       "      <td>...</td>\n",
       "    </tr>\n",
       "    <tr>\n",
       "      <th>98999</th>\n",
       "      <td>Legion</td>\n",
       "      <td>https://rateyourmusic.com/artist/legion-1</td>\n",
       "    </tr>\n",
       "    <tr>\n",
       "      <th>99</th>\n",
       "      <td>Pizzicato Five</td>\n",
       "      <td>https://rateyourmusic.com/artist/pizzicato_five</td>\n",
       "    </tr>\n",
       "    <tr>\n",
       "      <th>999</th>\n",
       "      <td>The Gathering</td>\n",
       "      <td>https://rateyourmusic.com/artist/the-gathering</td>\n",
       "    </tr>\n",
       "    <tr>\n",
       "      <th>9999</th>\n",
       "      <td>The Righteous Brothers</td>\n",
       "      <td>https://rateyourmusic.com/artist/the-righteous...</td>\n",
       "    </tr>\n",
       "    <tr>\n",
       "      <th>99199</th>\n",
       "      <td>The Kung Fu Monkeys</td>\n",
       "      <td>https://rateyourmusic.com/artist/the_kung_fu_m...</td>\n",
       "    </tr>\n",
       "  </tbody>\n",
       "</table>\n",
       "<p>27409 rows × 2 columns</p>\n",
       "</div>"
      ],
      "text/plain": [
       "                            ArtistName  \\\n",
       "100                             Sun Ra   \n",
       "100000                   Yvette Horner   \n",
       "1007400                 Suffering Hour   \n",
       "1017800  Telepath Telepathy Noryokusha   \n",
       "1031700                  Years & Years   \n",
       "...                                ...   \n",
       "98999                           Legion   \n",
       "99                      Pizzicato Five   \n",
       "999                      The Gathering   \n",
       "9999            The Righteous Brothers   \n",
       "99199              The Kung Fu Monkeys   \n",
       "\n",
       "                                                 ArtistRef  \n",
       "100                https://rateyourmusic.com/artist/sun-ra  \n",
       "100000      https://rateyourmusic.com/artist/yvette-horner  \n",
       "1007400    https://rateyourmusic.com/artist/suffering_hour  \n",
       "1017800  https://rateyourmusic.com/artist/telepath-テレパシ...  \n",
       "1031700   https://rateyourmusic.com/artist/years_and_years  \n",
       "...                                                    ...  \n",
       "98999            https://rateyourmusic.com/artist/legion-1  \n",
       "99         https://rateyourmusic.com/artist/pizzicato_five  \n",
       "999         https://rateyourmusic.com/artist/the-gathering  \n",
       "9999     https://rateyourmusic.com/artist/the-righteous...  \n",
       "99199    https://rateyourmusic.com/artist/the_kung_fu_m...  \n",
       "\n",
       "[27409 rows x 2 columns]"
      ]
     },
     "execution_count": 33,
     "metadata": {},
     "output_type": "execute_result"
    }
   ],
   "source": [
    "from pandas import DataFrame, Series\n",
    "DataFrame(Series(tmp[0], name=\"ArtistName\")).join(Series(tmp[1], name=\"ArtistRef\"))"
   ]
  },
  {
   "cell_type": "code",
   "execution_count": 4,
   "metadata": {},
   "outputs": [
    {
     "name": "stdout",
     "output_type": "stream",
     "text": [
      "Current Time is Sun Oct 31, 2021 12:02 for Writing To Main Pickle From Local YAML\n",
      "Current Time is Sun Oct 31, 2021 12:02 for Getting Manual Mergers Data From Local YAML File\n",
      "Process [Getting Manual Mergers Data From Local YAML File] Took 3.6 Seconds\n",
      "Current Time is Sun Oct 31, 2021 12:02 for Saving Manual Mergers Data To Main Pickle File\n",
      "Process [Saving Manual Mergers Data To Main Pickle File] Took 0.1 Seconds\n",
      "Process [Writing To Main Pickle From Local YAML] Took 3.6 Seconds\n"
     ]
    }
   ],
   "source": [
    "mam.writeToMainPickleFromLocalYAML()"
   ]
  },
  {
   "cell_type": "code",
   "execution_count": 11,
   "metadata": {},
   "outputs": [
    {
     "name": "stdout",
     "output_type": "stream",
     "text": [
      "Current Time is Sun Oct 31, 2021 12:16 for Writing To Local YAML From Main Pickle\n",
      "Current Time is Sun Oct 31, 2021 12:16 for Getting Manual Mergers Data From Main Pickle File\n",
      "Process [Getting Manual Mergers Data From Main Pickle File] Took 0.0 Seconds\n",
      "Current Time is Sun Oct 31, 2021 12:16 for Saving Manual Mergers Data To Local YAML File\n",
      "Process [Saving Manual Mergers Data To Local YAML File] Took 2.1 Seconds\n",
      "Process [Writing To Local YAML From Main Pickle] Took 2.1 Seconds\n"
     ]
    }
   ],
   "source": [
    "mam.writeToLocalYamlFromMainPickle()"
   ]
  },
  {
   "cell_type": "code",
   "execution_count": 8,
   "metadata": {},
   "outputs": [
    {
     "data": {
      "text/plain": [
       "{'ArtistName': 'Ray Conniff',\n",
       " 'DB': 'RateYourMusic',\n",
       " 'MergeData': {'19798': {'ArtistName': 'Ray Conniff',\n",
       "   'Ref': 'https://rateyourmusic.com/artist/ray-conniff'},\n",
       "  '385174': {'ArtistName': 'Ray Conniff',\n",
       "   'Ref': 'https://rateyourmusic.com/artist/ray-conniff-and-the-singers'}}}"
      ]
     },
     "execution_count": 8,
     "metadata": {},
     "output_type": "execute_result"
    }
   ],
   "source": [
    "mData = mam.getMergerDataByDB(\"Discogs\")\n",
    "mData = mam.getArtistDataByMergerID('10003241198')\n",
    "mData"
   ]
  },
  {
   "cell_type": "code",
   "execution_count": 7,
   "metadata": {},
   "outputs": [
    {
     "name": "stdout",
     "output_type": "stream",
     "text": [
      "1533\n"
     ]
    },
    {
     "ename": "ZeroDivisionError",
     "evalue": "division by zero",
     "output_type": "error",
     "traceback": [
      "\u001b[0;31m---------------------------------------------------------------------------\u001b[0m",
      "\u001b[0;31mZeroDivisionError\u001b[0m                         Traceback (most recent call last)",
      "\u001b[0;32m<ipython-input-7-920cb1eb1545>\u001b[0m in \u001b[0;36m<module>\u001b[0;34m\u001b[0m\n\u001b[1;32m      1\u001b[0m \u001b[0mprint\u001b[0m\u001b[0;34m(\u001b[0m\u001b[0mmData\u001b[0m\u001b[0;34m.\u001b[0m\u001b[0mapply\u001b[0m\u001b[0;34m(\u001b[0m\u001b[0;32mlambda\u001b[0m \u001b[0mx\u001b[0m\u001b[0;34m:\u001b[0m \u001b[0mlen\u001b[0m\u001b[0;34m(\u001b[0m\u001b[0mx\u001b[0m\u001b[0;34m[\u001b[0m\u001b[0;34m\"MergeData\"\u001b[0m\u001b[0;34m]\u001b[0m\u001b[0;34m)\u001b[0m\u001b[0;34m)\u001b[0m\u001b[0;34m.\u001b[0m\u001b[0msum\u001b[0m\u001b[0;34m(\u001b[0m\u001b[0;34m)\u001b[0m\u001b[0;34m)\u001b[0m\u001b[0;34m\u001b[0m\u001b[0;34m\u001b[0m\u001b[0m\n\u001b[0;32m----> 2\u001b[0;31m \u001b[0;36m1\u001b[0m\u001b[0;34m/\u001b[0m\u001b[0;36m0\u001b[0m\u001b[0;34m\u001b[0m\u001b[0;34m\u001b[0m\u001b[0m\n\u001b[0m\u001b[1;32m      3\u001b[0m \u001b[0;32mfor\u001b[0m \u001b[0martistName\u001b[0m\u001b[0;34m,\u001b[0m\u001b[0martistData\u001b[0m \u001b[0;32min\u001b[0m \u001b[0mmData\u001b[0m\u001b[0;34m.\u001b[0m\u001b[0miteritems\u001b[0m\u001b[0;34m(\u001b[0m\u001b[0;34m)\u001b[0m\u001b[0;34m:\u001b[0m\u001b[0;34m\u001b[0m\u001b[0;34m\u001b[0m\u001b[0m\n\u001b[1;32m      4\u001b[0m     \u001b[0mmID\u001b[0m   \u001b[0;34m=\u001b[0m \u001b[0martistData\u001b[0m\u001b[0;34m[\u001b[0m\u001b[0;34m\"ID\"\u001b[0m\u001b[0;34m]\u001b[0m\u001b[0;34m\u001b[0m\u001b[0;34m\u001b[0m\u001b[0m\n\u001b[1;32m      5\u001b[0m     \u001b[0mdbIDs\u001b[0m \u001b[0;34m=\u001b[0m \u001b[0martistData\u001b[0m\u001b[0;34m[\u001b[0m\u001b[0;34m\"MergeData\"\u001b[0m\u001b[0;34m]\u001b[0m\u001b[0;34m.\u001b[0m\u001b[0mkeys\u001b[0m\u001b[0;34m(\u001b[0m\u001b[0;34m)\u001b[0m\u001b[0;34m\u001b[0m\u001b[0;34m\u001b[0m\u001b[0m\n",
      "\u001b[0;31mZeroDivisionError\u001b[0m: division by zero"
     ]
    }
   ],
   "source": [
    "for artistName,artistData in mData.iteritems():\n",
    "    mID   = artistData[\"ID\"]\n",
    "    dbIDs = artistData[\"MergeData\"].keys()\n",
    "    print(artistName,mID,dbIDs)"
   ]
  },
  {
   "cell_type": "code",
   "execution_count": null,
   "metadata": {},
   "outputs": [],
   "source": []
  },
  {
   "cell_type": "markdown",
   "metadata": {
    "heading_collapsed": true
   },
   "source": [
    "## Load From Raw Data"
   ]
  },
  {
   "cell_type": "code",
   "execution_count": null,
   "metadata": {
    "hidden": true
   },
   "outputs": [],
   "source": [
    "from glob import glob\n",
    "from fileUtils import getBaseFilename\n",
    "from pandas import DataFrame\n",
    "mData = {getBaseFilename(ifile)[5:]: getFile(ifile) for ifile in glob(\"/Users/tgadfort/Documents/code/musicnames/mergers/py37/musicnames/mergers/merge*.yaml\")}\n",
    "mDF = DataFrame(mData)\n",
    "saveData = {artistName: row[row.notna()].to_dict() for artistName,row in mDF.iterrows()}\n",
    "mergeData = {artistName: {db: {\"ID\": mam.genMergerID(db), \"MergeData\": dbData} for db,dbData in artistData.items()} for artistName,artistData in saveData.items()}\n",
    "\n",
    "mam = masterArtistMerger()\n",
    "mam.saveData(Series(mergeData), local=False, fast=True)\n",
    "mam = masterArtistMerger()"
   ]
  },
  {
   "cell_type": "markdown",
   "metadata": {},
   "source": [
    "# Find Merger Data"
   ]
  },
  {
   "cell_type": "code",
   "execution_count": null,
   "metadata": {},
   "outputs": [],
   "source": [
    "fmd = findMergerData()"
   ]
  },
  {
   "cell_type": "code",
   "execution_count": null,
   "metadata": {},
   "outputs": [],
   "source": [
    "fmd.findArtistData(\"ABBA\")"
   ]
  },
  {
   "cell_type": "code",
   "execution_count": null,
   "metadata": {},
   "outputs": [],
   "source": [
    "mam = masterArtistMerger()\n",
    "newData = getFile(\"newMergeData.yaml\")\n",
    "mam.merge(newData, debug=True, save=True)"
   ]
  }
 ],
 "metadata": {
  "kernelspec": {
   "display_name": "Python 3",
   "language": "python",
   "name": "python3"
  },
  "language_info": {
   "codemirror_mode": {
    "name": "ipython",
    "version": 3
   },
   "file_extension": ".py",
   "mimetype": "text/x-python",
   "name": "python",
   "nbconvert_exporter": "python",
   "pygments_lexer": "ipython3",
   "version": "3.7.7"
  },
  "toc": {
   "base_numbering": 1,
   "nav_menu": {},
   "number_sections": true,
   "sideBar": true,
   "skip_h1_title": false,
   "title_cell": "Table of Contents",
   "title_sidebar": "Contents",
   "toc_cell": false,
   "toc_position": {},
   "toc_section_display": true,
   "toc_window_display": false
  }
 },
 "nbformat": 4,
 "nbformat_minor": 4
}
