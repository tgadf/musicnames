{
 "cells": [
  {
   "cell_type": "markdown",
   "metadata": {},
   "source": [
    "# Creator"
   ]
  },
  {
   "cell_type": "code",
   "execution_count": 1,
   "metadata": {},
   "outputs": [
    {
     "data": {
      "text/html": [
       "<style>.container { width:100% !important; }</style>"
      ],
      "text/plain": [
       "<IPython.core.display.HTML object>"
      ]
     },
     "metadata": {},
     "output_type": "display_data"
    },
    {
     "data": {
      "text/html": [
       "<style>div.output_area{max-height:10000px;overflow:scroll;}</style>"
      ],
      "text/plain": [
       "<IPython.core.display.HTML object>"
      ]
     },
     "metadata": {},
     "output_type": "display_data"
    },
    {
     "name": "stderr",
     "output_type": "stream",
     "text": [
      "/Users/tgadfort/opt/anaconda3/envs/py37/lib/python3.7/site-packages/sklearn/externals/joblib/__init__.py:15: FutureWarning: sklearn.externals.joblib is deprecated in 0.21 and will be removed in 0.23. Please import this functionality directly from joblib, which can be installed with: pip install joblib. If this warning is raised when loading pickled models, you may need to re-serialize those models with scikit-learn 0.21+.\n",
      "  warnings.warn(msg, category=FutureWarning)\n"
     ]
    }
   ],
   "source": [
    "## Basic stuff\n",
    "%load_ext autoreload\n",
    "%autoreload\n",
    "\n",
    "from IPython.core.display import display, HTML\n",
    "display(HTML(\"<style>.container { width:100% !important; }</style>\"))\n",
    "display(HTML(\"\"\"<style>div.output_area{max-height:10000px;overflow:scroll;}</style>\"\"\"))\n",
    "#IPython.Cell.options_default.cm_config.lineNumbers = true;\n",
    "from masterArtistNameDB import masterArtistNameDB\n",
    "from ioUtils import getFile, saveFile"
   ]
  },
  {
   "cell_type": "markdown",
   "metadata": {},
   "source": [
    "# Master Artist Name DB"
   ]
  },
  {
   "cell_type": "code",
   "execution_count": 12,
   "metadata": {},
   "outputs": [
    {
     "name": "stdout",
     "output_type": "stream",
     "text": [
      "========================= masterArtistNameDB(\"main\") =========================\n",
      "Current Time is Sat Oct 02, 2021 17:54 for Getting Manual Renames Data From Main Pickle File\n",
      "Process [Getting Manual Renames Data From Main Pickle File] Took 0.1 Seconds\n",
      "  No duplicate key/values in manual renames\n",
      "  No recursive key/values in manual renames\n",
      "masterArtistNameDB(\"main\") Summary:\n",
      "  Entries: 45021\n",
      "  Artists: 34171\n",
      "========================= masterArtistNameDB(\"multi\") =========================\n",
      "Current Time is Sat Oct 02, 2021 17:54 for Getting Manual Renames Data From Main Pickle File\n",
      "Process [Getting Manual Renames Data From Main Pickle File] Took 0.0 Seconds\n",
      "  No duplicate key/values in manual renames\n",
      "  No recursive key/values in manual renames\n",
      "masterArtistNameDB(\"multi\") Summary:\n",
      "  Entries: 705\n",
      "  Artists: 644\n"
     ]
    }
   ],
   "source": [
    "mandb   = masterArtistNameDB(\"main\")\n",
    "multidb = masterArtistNameDB(\"multi\")"
   ]
  },
  {
   "cell_type": "code",
   "execution_count": 14,
   "metadata": {},
   "outputs": [
    {
     "name": "stdout",
     "output_type": "stream",
     "text": [
      "Current Time is Sat Oct 02, 2021 17:54 for Writing To Local YAML From Main Pickle\n",
      "Current Time is Sat Oct 02, 2021 17:54 for Getting Manual Renames Data From Main Pickle File\n",
      "Process [Getting Manual Renames Data From Main Pickle File] Took 0.1 Seconds\n",
      "Current Time is Sat Oct 02, 2021 17:54 for Saving Manual Renames Data To Local YAML File\n",
      "masterArtistNameDB(\"main\") Summary:\n",
      "  Entries: 45021\n",
      "  Artists: 34171\n",
      "Process [Saving Manual Renames Data To Local YAML File] Took 3.7 Seconds\n",
      "Process [Writing To Local YAML From Main Pickle] Took 3.7 Seconds\n",
      "Current Time is Sat Oct 02, 2021 17:54 for Writing To Local YAML From Main Pickle\n",
      "Current Time is Sat Oct 02, 2021 17:54 for Getting Manual Renames Data From Main Pickle File\n",
      "Process [Getting Manual Renames Data From Main Pickle File] Took 0.0 Seconds\n",
      "Current Time is Sat Oct 02, 2021 17:54 for Saving Manual Renames Data To Local YAML File\n",
      "masterArtistNameDB(\"multi\") Summary:\n",
      "  Entries: 705\n",
      "  Artists: 644\n",
      "Process [Saving Manual Renames Data To Local YAML File] Took 0.1 Seconds\n",
      "Process [Writing To Local YAML From Main Pickle] Took 0.1 Seconds\n"
     ]
    }
   ],
   "source": [
    "mandb.writeToLocalYamlFromMainPickle()\n",
    "multidb.writeToLocalYamlFromMainPickle()"
   ]
  },
  {
   "cell_type": "code",
   "execution_count": null,
   "metadata": {},
   "outputs": [],
   "source": [
    "manc = masterArtistNameCorrection()"
   ]
  },
  {
   "cell_type": "code",
   "execution_count": 9,
   "metadata": {},
   "outputs": [],
   "source": [
    "from pandas import Series\n",
    "data = Series(getFile(\"../dbmaster/multi.yaml\"))"
   ]
  },
  {
   "cell_type": "code",
   "execution_count": 11,
   "metadata": {},
   "outputs": [],
   "source": [
    "from ioUtils import saveFile, getFile\n",
    "saveFile(idata=data, ifile=\"/Users/tgadfort/opt/anaconda3/envs/py37/musicnames/multiManualRenames.p\")"
   ]
  },
  {
   "cell_type": "code",
   "execution_count": null,
   "metadata": {},
   "outputs": [],
   "source": [
    "from masterArtistMerger import masterArtistMerger\n",
    "tmp = masterArtistMerger()"
   ]
  },
  {
   "cell_type": "code",
   "execution_count": null,
   "metadata": {},
   "outputs": [],
   "source": [
    "tmpData = tmp.getDBMergerData(\"RateYourMusic\")"
   ]
  },
  {
   "cell_type": "code",
   "execution_count": null,
   "metadata": {},
   "outputs": [],
   "source": [
    "tmp.saveDBMergerData(db=\"RateYourMusic\", mergerData=tmpData)"
   ]
  },
  {
   "cell_type": "code",
   "execution_count": null,
   "metadata": {},
   "outputs": [],
   "source": [
    "mergerData=tmpData\n",
    "filename=\"mergers/mergeRateYourMusic.yaml\"\n",
    "saveFile(idata=mergerData, ifile=saveFile)"
   ]
  },
  {
   "cell_type": "code",
   "execution_count": null,
   "metadata": {},
   "outputs": [],
   "source": [
    "from masterArtistNameDB import masterArtistNameDB"
   ]
  },
  {
   "cell_type": "code",
   "execution_count": null,
   "metadata": {},
   "outputs": [],
   "source": [
    "mandb = masterArtistNameDB(\"main\")"
   ]
  },
  {
   "cell_type": "code",
   "execution_count": null,
   "metadata": {},
   "outputs": [],
   "source": [
    "mandb.writeToLocalYamlFromMainPickle()"
   ]
  },
  {
   "cell_type": "code",
   "execution_count": null,
   "metadata": {},
   "outputs": [],
   "source": [
    "manualRenames = mandb.getData()"
   ]
  },
  {
   "cell_type": "code",
   "execution_count": null,
   "metadata": {},
   "outputs": [],
   "source": [
    "mandb.renamed(\"X\")"
   ]
  },
  {
   "cell_type": "code",
   "execution_count": null,
   "metadata": {},
   "outputs": [],
   "source": [
    "manualRenames.nunique()"
   ]
  },
  {
   "cell_type": "code",
   "execution_count": null,
   "metadata": {},
   "outputs": [],
   "source": [
    "mandb.merge({'\"Big Chief\" Russell Moore': 'Russell Moore'}, test=False)"
   ]
  },
  {
   "cell_type": "code",
   "execution_count": null,
   "metadata": {},
   "outputs": [],
   "source": [
    "from ioUtils import getFile, saveFile\n",
    "from fsUtils import isFile\n",
    "from sys import prefix\n",
    "from os.path import join\n",
    "source=\"main\"\n",
    "artistNameDBname      = join(prefix, 'musicnames', \"{0}ArtistNameDB.p\".format(source))\n",
    "dbRenamesname         = join(prefix, 'musicnames', \"{0}DBRenames.yaml\".format(source))"
   ]
  },
  {
   "cell_type": "code",
   "execution_count": null,
   "metadata": {},
   "outputs": [],
   "source": [
    "from pandas import Series\n",
    "mainDB = Series(getFile(\"../dbmaster/notebooks/main.yaml\"))"
   ]
  },
  {
   "cell_type": "code",
   "execution_count": null,
   "metadata": {},
   "outputs": [],
   "source": [
    "len(mainDB)"
   ]
  },
  {
   "cell_type": "code",
   "execution_count": null,
   "metadata": {},
   "outputs": [],
   "source": [
    "mandb.saveData(mainDB, local=False, fast=True)\n",
    "mandb.saveData(mainDB, local=False, fast=False)"
   ]
  },
  {
   "cell_type": "code",
   "execution_count": null,
   "metadata": {},
   "outputs": [],
   "source": [
    "manualRenames = mandb.getData()"
   ]
  },
  {
   "cell_type": "code",
   "execution_count": null,
   "metadata": {},
   "outputs": [],
   "source": [
    "#retval = manualRenames[manualRenames.apply(lambda x: manualRenames.index.__contains__(x))]"
   ]
  },
  {
   "cell_type": "code",
   "execution_count": null,
   "metadata": {},
   "outputs": [],
   "source": [
    "dummyME = Series(getFile(\"mainManualRenames.yaml\"))\n",
    "print(len(dummyME))\n",
    "dummyME = dummyME.append(Series({'\"Big Chief\" Russell MooreX': 'Russell Moore'}))\n",
    "print(len(dummyME))\n",
    "retval,newManualRenames = mandb.duplicateIndexTest(dummyME)\n",
    "print(len(newManualRenames))\n",
    "print(retval)\n",
    "\n",
    "#retval,newManualRenames = mandb.duplicateIndexTest(dummyME)\n",
    "#mandb.saveData(manualRenames)"
   ]
  },
  {
   "cell_type": "code",
   "execution_count": null,
   "metadata": {},
   "outputs": [],
   "source": [
    "dummyME = manualRenames.append(manualRenames.sample(10).copy(deep=True)).copy(deep=True)\n",
    "print(len(dummyME))\n",
    "retval,newManualRenames = mandb.duplicateIndexTest(dummyME)\n",
    "print(len(newManualRenames))\n",
    "print(retval)"
   ]
  },
  {
   "cell_type": "code",
   "execution_count": null,
   "metadata": {},
   "outputs": [],
   "source": [
    "mandb.recursiveTest(manualRenames)"
   ]
  },
  {
   "cell_type": "code",
   "execution_count": null,
   "metadata": {},
   "outputs": [],
   "source": [
    "toMerge = mainDB.sample(100).copy(deep=True)"
   ]
  },
  {
   "cell_type": "code",
   "execution_count": null,
   "metadata": {},
   "outputs": [],
   "source": [
    "ogMerge = mainDB.copy(deep=True)"
   ]
  },
  {
   "cell_type": "code",
   "execution_count": null,
   "metadata": {},
   "outputs": [],
   "source": [
    "print(len(ogMerge))\n",
    "mandb.recursiveTest(ogMerge.append(toMerge))"
   ]
  },
  {
   "cell_type": "code",
   "execution_count": null,
   "metadata": {},
   "outputs": [],
   "source": [
    "manualRenames.index[manualRenames.index.duplicated()]\n",
    "if manualRenames.shape[0] == 0:\n",
    "    return True\n"
   ]
  },
  {
   "cell_type": "code",
   "execution_count": null,
   "metadata": {},
   "outputs": [],
   "source": [
    "allMerged = manualRenames.append(manualRenames.sample(10).copy(deep=True)).copy(deep=True)"
   ]
  },
  {
   "cell_type": "code",
   "execution_count": null,
   "metadata": {},
   "outputs": [],
   "source": [
    "\n",
    "    allMerged = Series(allMerged.to_dict())\n",
    "    \n",
    "return "
   ]
  },
  {
   "cell_type": "code",
   "execution_count": null,
   "metadata": {},
   "outputs": [],
   "source": [
    "allMerged['CJ Mackintosh']"
   ]
  },
  {
   "cell_type": "code",
   "execution_count": null,
   "metadata": {},
   "outputs": [],
   "source": [
    "newAllMerged = Series(allMerged.to_dict())"
   ]
  },
  {
   "cell_type": "code",
   "execution_count": null,
   "metadata": {},
   "outputs": [],
   "source": [
    "len(newAllMerged)"
   ]
  },
  {
   "cell_type": "code",
   "execution_count": null,
   "metadata": {},
   "outputs": [],
   "source": []
  }
 ],
 "metadata": {
  "kernelspec": {
   "display_name": "Python 3",
   "language": "python",
   "name": "python3"
  },
  "language_info": {
   "codemirror_mode": {
    "name": "ipython",
    "version": 3
   },
   "file_extension": ".py",
   "mimetype": "text/x-python",
   "name": "python",
   "nbconvert_exporter": "python",
   "pygments_lexer": "ipython3",
   "version": "3.7.7"
  },
  "toc": {
   "base_numbering": 1,
   "nav_menu": {},
   "number_sections": true,
   "sideBar": true,
   "skip_h1_title": false,
   "title_cell": "Table of Contents",
   "title_sidebar": "Contents",
   "toc_cell": false,
   "toc_position": {},
   "toc_section_display": true,
   "toc_window_display": false
  }
 },
 "nbformat": 4,
 "nbformat_minor": 4
}
