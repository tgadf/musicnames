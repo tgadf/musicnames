{
 "cells": [
  {
   "cell_type": "markdown",
   "metadata": {},
   "source": [
    "# Creator"
   ]
  },
  {
   "cell_type": "code",
   "execution_count": 20,
   "metadata": {},
   "outputs": [
    {
     "name": "stdout",
     "output_type": "stream",
     "text": [
      "The autoreload extension is already loaded. To reload it, use:\n",
      "  %reload_ext autoreload\n"
     ]
    },
    {
     "data": {
      "text/html": [
       "<style>.container { width:100% !important; }</style>"
      ],
      "text/plain": [
       "<IPython.core.display.HTML object>"
      ]
     },
     "metadata": {},
     "output_type": "display_data"
    },
    {
     "data": {
      "text/html": [
       "<style>div.output_area{max-height:10000px;overflow:scroll;}</style>"
      ],
      "text/plain": [
       "<IPython.core.display.HTML object>"
      ]
     },
     "metadata": {},
     "output_type": "display_data"
    }
   ],
   "source": [
    "## Basic stuff\n",
    "%load_ext autoreload\n",
    "%autoreload\n",
    "\n",
    "from IPython.core.display import display, HTML\n",
    "display(HTML(\"<style>.container { width:100% !important; }</style>\"))\n",
    "display(HTML(\"\"\"<style>div.output_area{max-height:10000px;overflow:scroll;}</style>\"\"\"))\n",
    "#IPython.Cell.options_default.cm_config.lineNumbers = true;\n",
    "from masterArtistNameDB import masterArtistNameDB\n",
    "from ioUtils import getFile, saveFile"
   ]
  },
  {
   "cell_type": "code",
   "execution_count": 10,
   "metadata": {},
   "outputs": [
    {
     "name": "stdout",
     "output_type": "stream",
     "text": [
      "========================= masterArtistNameDB =========================\n",
      "  Loading data from /Users/tgadfort/opt/anaconda3/envs/py37/discogs/mainArtistNameDB.p\n",
      "  Initializing a fresh DB for main\n",
      "  There are currently 0 artist keys.\n",
      "  There are currently 0 renamed artist keys.\n",
      "  Forced reload of 6519 artist names\n"
     ]
    }
   ],
   "source": [
    "manDB = masterArtistNameDB(\"main\", init=True)\n",
    "manDB.forceReload(getFile(\"mainDBRenames.yaml\"))\n",
    "manDB.checkForRecursives()"
   ]
  },
  {
   "cell_type": "code",
   "execution_count": 18,
   "metadata": {},
   "outputs": [
    {
     "name": "stdout",
     "output_type": "stream",
     "text": [
      "========================= masterArtistNameDB =========================\n",
      "  Loading data from /Users/tgadfort/opt/anaconda3/envs/py37/musicnames/mainArtistNameDB.p\n",
      "  Initializing a fresh DB for main\n",
      "  There are currently 0 artist keys.\n",
      "  There are currently 0 renamed artist keys.\n",
      "  Forced reload of 6519 artist names\n",
      "Saving 6519 artist keys to /Users/tgadfort/opt/anaconda3/envs/py37/musicnames/mainArtistNameDB.p\n",
      "Saving data to /Users/tgadfort/opt/anaconda3/envs/py37/musicnames/mainArtistNameDB.p\n",
      "  --> This file is 171.5kB.\n",
      "Saved data to /Users/tgadfort/opt/anaconda3/envs/py37/musicnames/mainArtistNameDB.p\n",
      "  --> This file is 171.5kB.\n",
      "Saving 7543 renamed artist keys to /Users/tgadfort/opt/anaconda3/envs/py37/musicnames/mainDBRenames.yaml\n",
      "Saving data to /Users/tgadfort/opt/anaconda3/envs/py37/musicnames/mainDBRenames.yaml\n",
      "Saved data to /Users/tgadfort/opt/anaconda3/envs/py37/musicnames/mainDBRenames.yaml\n",
      "  --> This file is 273.5kB.\n"
     ]
    }
   ],
   "source": [
    "manDB = masterArtistNameDB(\"main\", init=True)\n",
    "manDB.forceReload(getFile(\"mainDBRenames.yaml\"))\n",
    "manDB.checkForRecursives()\n",
    "manDB.save()\n",
    "manDB.saveRenames()\n",
    "#manDB = masterArtistNameDB(\"main\", init=False)\n",
    "#saveFile(idata=manDB.dbRenames, ifile=\"mainDBRenames.yaml\")"
   ]
  },
  {
   "cell_type": "code",
   "execution_count": null,
   "metadata": {},
   "outputs": [],
   "source": []
  }
 ],
 "metadata": {
  "kernelspec": {
   "display_name": "Python 3",
   "language": "python",
   "name": "python3"
  },
  "language_info": {
   "codemirror_mode": {
    "name": "ipython",
    "version": 3
   },
   "file_extension": ".py",
   "mimetype": "text/x-python",
   "name": "python",
   "nbconvert_exporter": "python",
   "pygments_lexer": "ipython3",
   "version": "3.7.7"
  }
 },
 "nbformat": 4,
 "nbformat_minor": 4
}
