{
 "cells": [
  {
   "cell_type": "markdown",
   "metadata": {},
   "source": [
    "# Creator"
   ]
  },
  {
   "cell_type": "code",
   "execution_count": 1,
   "metadata": {},
   "outputs": [
    {
     "data": {
      "text/html": [
       "<style>.container { width:100% !important; }</style>"
      ],
      "text/plain": [
       "<IPython.core.display.HTML object>"
      ]
     },
     "metadata": {},
     "output_type": "display_data"
    },
    {
     "data": {
      "text/html": [
       "<style>div.output_area{max-height:10000px;overflow:scroll;}</style>"
      ],
      "text/plain": [
       "<IPython.core.display.HTML object>"
      ]
     },
     "metadata": {},
     "output_type": "display_data"
    }
   ],
   "source": [
    "## Basic stuff\n",
    "%load_ext autoreload\n",
    "%autoreload\n",
    "\n",
    "from IPython.core.display import display, HTML\n",
    "display(HTML(\"<style>.container { width:100% !important; }</style>\"))\n",
    "display(HTML(\"\"\"<style>div.output_area{max-height:10000px;overflow:scroll;}</style>\"\"\"))\n",
    "\n",
    "from masterArtistNameDB import masterArtistNameDB\n",
    "from masterArtistNameCorrection import masterArtistNameCorrection\n",
    "from masterArtistMerger import masterArtistMerger\n",
    "from findMergerData import findMergerData"
   ]
  },
  {
   "cell_type": "code",
   "execution_count": null,
   "metadata": {},
   "outputs": [],
   "source": [
    "!python setup.py install"
   ]
  },
  {
   "cell_type": "code",
   "execution_count": null,
   "metadata": {},
   "outputs": [],
   "source": [
    "from convertByteString import convertByteString\n",
    "\n",
    "class masterArtistNameCorrection:\n",
    "    def __init__(self, debug=False):\n",
    "        self.debug = debug\n",
    "        self.cbs = convertByteString()\n",
    "\n",
    "        ## Test\n",
    "        assert self.clean(\"3/3\") == \"3-3\"\n",
    "        assert self.clean(\"...Hello\") == \"Hello\"\n",
    "        \n",
    "\n",
    "    def directoryName(self, x):\n",
    "        if x is None:\n",
    "            return x\n",
    "        if \"...\" in x:\n",
    "            x = x.replace(\"...\", \"\")\n",
    "        if \"/\" in x:\n",
    "            x = x.replace(\"/\", \"-\")\n",
    "        return x\n",
    "\n",
    "\n",
    "    def realName(self, x):\n",
    "        if x is None:\n",
    "            return [None,-1]\n",
    "\n",
    "        lenx = len(x)\n",
    "        if len(x) < 1:\n",
    "            return [x,-1]\n",
    "\n",
    "        if x[-1] != \")\":\n",
    "            return [x, None]\n",
    "\n",
    "\n",
    "        if lenx >=5:\n",
    "            if x[-3] == \"(\":\n",
    "                try:\n",
    "                    num = int(x[-2:-1])\n",
    "                    val = x[:-3].strip()\n",
    "                    return [val, num]\n",
    "                except:\n",
    "                    return [x, None]\n",
    "\n",
    "        if lenx >= 6:\n",
    "            if x[-4] == \"(\":\n",
    "                try:\n",
    "                    num = int(x[-3:-1])\n",
    "                    val = x[:-4].strip()\n",
    "                    return [val, num]\n",
    "                except:\n",
    "                    return [x, None]\n",
    "\n",
    "        if lenx >= 7:\n",
    "            if x[-4] == \"(\":\n",
    "                try:\n",
    "                    num = int(x[-3:-1])\n",
    "                    val = x[:-4].strip()\n",
    "                    return [val, num]\n",
    "                except:\n",
    "                    return [x, None]\n",
    "\n",
    "        return [x, None]\n",
    "\n",
    "    \n",
    "    def discConv(self, x):\n",
    "        if x is None:\n",
    "            return \"\"\n",
    "        x = x.replace(\"/\", \"-\")\n",
    "        x = x.replace(\"¡\", \"\")\n",
    "        while x.startswith(\".\") and len(x) > 1:\n",
    "            x = x[1:]\n",
    "        x = x.strip()\n",
    "        x = self.cbs.convert(x)\n",
    "        return x\n",
    "\n",
    "    \n",
    "    def cleanMB(self, x):\n",
    "        pos = [x.rfind(\"(\")+1, x.rfind(\")\")]\n",
    "        if sum([p > 0 for p in pos]) != len(pos):\n",
    "            return x\n",
    "        parval = x[pos[0]:pos[1]]\n",
    "        return x[:pos[0]-2].strip()  \n",
    "        \n",
    "        \n",
    "    def clean(self, name):\n",
    "        if self.debug:\n",
    "            print(\"Pre Cleaning  [{0}]\".format(name))\n",
    "        name = self.discConv(name)\n",
    "        if self.debug:\n",
    "            print(\"Post Cleaning [{0}]\".format(name))\n",
    "        return name"
   ]
  },
  {
   "cell_type": "code",
   "execution_count": null,
   "metadata": {},
   "outputs": [],
   "source": []
  },
  {
   "cell_type": "code",
   "execution_count": null,
   "metadata": {},
   "outputs": [],
   "source": [
    "name = \"Maria Lătăreţu (42)\"\n",
    "manc = masterArtistNameCreator(\"Discogs\", debug=False)\n",
    "manc.getArtistName(name)"
   ]
  },
  {
   "cell_type": "code",
   "execution_count": null,
   "metadata": {},
   "outputs": [],
   "source": [
    "artistMetadata.apply(lambda x: manc.getArtistName(x[0]))"
   ]
  },
  {
   "cell_type": "code",
   "execution_count": null,
   "metadata": {},
   "outputs": [],
   "source": [
    "name = \"Pamela (42)\""
   ]
  },
  {
   "cell_type": "code",
   "execution_count": null,
   "metadata": {},
   "outputs": [],
   "source": [
    "len(name)"
   ]
  },
  {
   "cell_type": "code",
   "execution_count": null,
   "metadata": {},
   "outputs": [],
   "source": [
    "result.span()"
   ]
  },
  {
   "cell_type": "code",
   "execution_count": null,
   "metadata": {},
   "outputs": [],
   "source": [
    "from masterDBGate import masterDBGate\n",
    "from searchUtils import findPatternExt\n",
    "from fileIO import fileIO\n",
    "mdbGate = masterDBGate()\n",
    "discs = mdbGate.getDiscs()\n",
    "io = fileIO()"
   ]
  },
  {
   "cell_type": "code",
   "execution_count": null,
   "metadata": {},
   "outputs": [],
   "source": [
    "modVal = 0\n",
    "artistMetadata = io.get(discs[\"Discogs\"].getArtistsDBModValMetadataFilename(modVal))\n",
    "albumsMetadata = io.get(discs[\"Discogs\"].getArtistsDBModValAlbumsMetadataFilename(modVal))"
   ]
  },
  {
   "cell_type": "code",
   "execution_count": null,
   "metadata": {},
   "outputs": [],
   "source": [
    "artistIDToCleanName = {db: disc.getArtistIDToPreMergeNameData().apply(lambda x: manc.realName(x)[0]).apply(manc.clean).apply(cbs.convert) for db,disc in mDiscs.items()}\n"
   ]
  },
  {
   "cell_type": "code",
   "execution_count": null,
   "metadata": {},
   "outputs": [],
   "source": [
    "manc = masterArtistNameCorrection()\n",
    "artistMetadata.apply(lambda x: manc.realName(x[0])[0]).apply(manc.clean).apply(cbs.convert)"
   ]
  },
  {
   "cell_type": "code",
   "execution_count": null,
   "metadata": {},
   "outputs": [],
   "source": [
    "\n",
    "        artistMetadataDBDir = self.disc.getArtistsMetadataDBDir()\n",
    "        files = findPatternExt(artistMetadataDBDir, pattern=\"-Metadata\", ext='.p')\n",
    "\n",
    "        for i,ifile in enumerate(sorted(files)):\n",
    "            print(ifile,' \\t',end=\"\")\n",
    "            db = getFile(ifile)\n",
    "            artistIDToName.update({k: v[0] for k,v in db.items()})\n",
    "            artistIDToRef.update({k: v[1] for k,v in db.items()})\n",
    "            #artistIDToVariations.update({k: v[2] for k,v in db.items()})\n",
    "\n"
   ]
  },
  {
   "cell_type": "markdown",
   "metadata": {},
   "source": [
    "# Master Artist Name DB"
   ]
  },
  {
   "cell_type": "code",
   "execution_count": null,
   "metadata": {},
   "outputs": [],
   "source": [
    "mandb   = masterArtistNameDB(\"main\")\n",
    "multidb = masterArtistNameDB(\"multi\")"
   ]
  },
  {
   "cell_type": "code",
   "execution_count": null,
   "metadata": {},
   "outputs": [],
   "source": [
    "mData = mandb.getData()\n",
    "mData.head(3)"
   ]
  },
  {
   "cell_type": "code",
   "execution_count": null,
   "metadata": {},
   "outputs": [],
   "source": [
    "mandb.writeToLocalYamlFromMainPickle()\n",
    "multidb.writeToLocalYamlFromMainPickle()"
   ]
  },
  {
   "cell_type": "markdown",
   "metadata": {},
   "source": [
    "# Master Artist Name Correction"
   ]
  },
  {
   "cell_type": "code",
   "execution_count": null,
   "metadata": {},
   "outputs": [],
   "source": [
    "manc = masterArtistNameCorrection()"
   ]
  },
  {
   "cell_type": "code",
   "execution_count": null,
   "metadata": {},
   "outputs": [],
   "source": [
    "manc.clean(\"3/3\")"
   ]
  },
  {
   "cell_type": "markdown",
   "metadata": {},
   "source": [
    "# Master Artist Merger"
   ]
  },
  {
   "cell_type": "code",
   "execution_count": null,
   "metadata": {},
   "outputs": [],
   "source": [
    "mam = masterArtistMerger(install=True)"
   ]
  },
  {
   "cell_type": "code",
   "execution_count": null,
   "metadata": {},
   "outputs": [],
   "source": [
    "from convertByteString import convertByteString\n",
    "cbs = convertByteString()\n",
    "\n",
    "tmp = mam.getData(local=True, fast=False)\n",
    "saveData = {cbs.convert(k): v for k,v in tmp.items()}\n",
    "mam.saveData(manualMergers=tmp, local=True, fast=False)\n",
    "mam.saveData(manualMergers=tmp, local=True, fast=True)\n",
    "mam.saveData(manualMergers=tmp, local=False, fast=True)"
   ]
  },
  {
   "cell_type": "code",
   "execution_count": null,
   "metadata": {},
   "outputs": [],
   "source": [
    "mam = masterArtistMerger()\n",
    "mam.genMergerID(\"RateYourMusic\")"
   ]
  },
  {
   "cell_type": "code",
   "execution_count": null,
   "metadata": {},
   "outputs": [],
   "source": [
    "from masterDBGate import masterDBGate\n",
    "mdbGate = masterDBGate()\n",
    "mDiscs  = mdbGate.getDiscs()"
   ]
  },
  {
   "cell_type": "code",
   "execution_count": null,
   "metadata": {},
   "outputs": [],
   "source": [
    "from timeUtils import timestat\n",
    "ts = timestat(\"Getting Disc Data\")\n",
    "discData = {db: DataFrame(Series(mDisc.getArtistIDToPreMergeNameData(), name=\"ArtistName\")).join(Series(mDisc.getArtistIDToPreMergeRefData(), name=\"ArtistRef\")) for db,mDisc in mDiscs.items()}\n",
    "ts.stop()"
   ]
  },
  {
   "cell_type": "code",
   "execution_count": null,
   "metadata": {},
   "outputs": [],
   "source": [
    "x = \"Alice Cooper\""
   ]
  },
  {
   "cell_type": "code",
   "execution_count": null,
   "metadata": {},
   "outputs": [],
   "source": [
    "discData[\"RateYourMusic\"][discData[\"RateYourMusic\"][\"ArtistName\"] == x]"
   ]
  },
  {
   "cell_type": "code",
   "execution_count": null,
   "metadata": {},
   "outputs": [],
   "source": [
    "def getArtistMasterMatches(artistName, masterDFs, mergers, equal=False):\n",
    "    print(\"  ArtistName: {0}\".format(artistName))\n",
    "    for db in masterDFs.keys():\n",
    "        if mergers[db].get(artistName) is not None:\n",
    "            print(\"  {0}: '{1}'\".format(db,mergers[db][artistName]))\n",
    "            continue\n",
    "\n",
    "        if equal is True:\n",
    "            retval = masterDFs[db][masterDFs[db][\"MergerDiscArtist\"] == artistName][[\"ArtistName\", \"Ref\"]].T.to_dict()\n",
    "        else:\n",
    "            retval = masterDFs[db][masterDFs[db][\"MergerDiscArtist\"].str.contains(artistName)][[\"ArtistName\", \"Ref\"]].T.to_dict()\n",
    "        idxs   = list(retval.keys())\n",
    "        if len(idxs) == 0:\n",
    "            continue\n",
    "\n",
    "        if len(retval) == 1:\n",
    "            print(\"  {0}: '{1}'\".format(db,idxs[0]))\n",
    "        else:\n",
    "            print(\"  {0}: {1}\".format(db,idxs))"
   ]
  },
  {
   "cell_type": "code",
   "execution_count": null,
   "metadata": {},
   "outputs": [],
   "source": [
    "\n",
    "\n",
    "# MergeArtist\n",
    "artists=\"\"\"\n",
    "Tony Pastor\n",
    "\"\"\".split(\"\\n\")\n",
    "artists = [x.replace(\"# \", \"\") for x in artists]\n",
    "artists = [x for x in artists if len(x) > 0]\n",
    "print(artists)\n",
    "\n",
    "for db in masterDFs.keys():\n",
    "    idata = {}\n",
    "    for artistName in artists:\n",
    "        retval = masterDFs[db][masterDFs[db][\"ArtistName\"].str.contains(artistName)][[\"ArtistName\", \"Ref\"]].T.to_dict()\n",
    "        if len(retval) >= 2:\n",
    "            idata[artistName] = retval\n",
    "    print(db,len(idata))\n",
    "    if len(idata) > 0:\n",
    "        saveFile(idata=idata, ifile=\"update{0}.yaml\".format(db))"
   ]
  },
  {
   "cell_type": "code",
   "execution_count": null,
   "metadata": {},
   "outputs": [],
   "source": [
    "from pandas import DataFrame, Series\n",
    "DataFrame(Series(tmp[0], name=\"ArtistName\")).join(Series(tmp[1], name=\"ArtistRef\"))"
   ]
  },
  {
   "cell_type": "code",
   "execution_count": null,
   "metadata": {},
   "outputs": [],
   "source": [
    "mam.writeToMainPickleFromLocalYAML()"
   ]
  },
  {
   "cell_type": "code",
   "execution_count": null,
   "metadata": {},
   "outputs": [],
   "source": [
    "mam.writeToLocalYamlFromMainPickle()"
   ]
  },
  {
   "cell_type": "code",
   "execution_count": null,
   "metadata": {},
   "outputs": [],
   "source": [
    "mData = mam.getMergerDataByDB(\"Discogs\")\n",
    "mData = mam.getArtistDataByMergerID('10003241198')\n",
    "mData"
   ]
  },
  {
   "cell_type": "code",
   "execution_count": null,
   "metadata": {},
   "outputs": [],
   "source": [
    "for artistName,artistData in mData.iteritems():\n",
    "    mID   = artistData[\"ID\"]\n",
    "    dbIDs = artistData[\"MergeData\"].keys()\n",
    "    print(artistName,mID,dbIDs)"
   ]
  },
  {
   "cell_type": "code",
   "execution_count": null,
   "metadata": {},
   "outputs": [],
   "source": []
  },
  {
   "cell_type": "markdown",
   "metadata": {
    "heading_collapsed": true
   },
   "source": [
    "## Load From Raw Data"
   ]
  },
  {
   "cell_type": "code",
   "execution_count": null,
   "metadata": {
    "hidden": true
   },
   "outputs": [],
   "source": [
    "from glob import glob\n",
    "from fileUtils import getBaseFilename\n",
    "from pandas import DataFrame\n",
    "mData = {getBaseFilename(ifile)[5:]: getFile(ifile) for ifile in glob(\"/Users/tgadfort/Documents/code/musicnames/mergers/py37/musicnames/mergers/merge*.yaml\")}\n",
    "mDF = DataFrame(mData)\n",
    "saveData = {artistName: row[row.notna()].to_dict() for artistName,row in mDF.iterrows()}\n",
    "mergeData = {artistName: {db: {\"ID\": mam.genMergerID(db), \"MergeData\": dbData} for db,dbData in artistData.items()} for artistName,artistData in saveData.items()}\n",
    "\n",
    "mam = masterArtistMerger()\n",
    "mam.saveData(Series(mergeData), local=False, fast=True)\n",
    "mam = masterArtistMerger()"
   ]
  },
  {
   "cell_type": "markdown",
   "metadata": {},
   "source": [
    "# Find Merger Data"
   ]
  },
  {
   "cell_type": "code",
   "execution_count": null,
   "metadata": {},
   "outputs": [],
   "source": [
    "fmd = findMergerData()"
   ]
  },
  {
   "cell_type": "code",
   "execution_count": null,
   "metadata": {},
   "outputs": [],
   "source": [
    "fmd.findArtistData(\"ABBA\")"
   ]
  },
  {
   "cell_type": "code",
   "execution_count": null,
   "metadata": {},
   "outputs": [],
   "source": [
    "mam = masterArtistMerger()\n",
    "newData = getFile(\"newMergeData.yaml\")\n",
    "mam.merge(newData, debug=True, save=True)"
   ]
  },
  {
   "cell_type": "markdown",
   "metadata": {},
   "source": [
    "# Merger Analysis"
   ]
  },
  {
   "cell_type": "code",
   "execution_count": null,
   "metadata": {},
   "outputs": [],
   "source": [
    "#!pip install hyper\n",
    "#!pip install googletrans"
   ]
  },
  {
   "cell_type": "code",
   "execution_count": 2,
   "metadata": {},
   "outputs": [],
   "source": [
    "from googletrans import Translator,LANGCODES"
   ]
  },
  {
   "cell_type": "code",
   "execution_count": 4,
   "metadata": {},
   "outputs": [],
   "source": [
    "translator = Translator()\n",
    "retval = translator.translate('前田たかひろ')"
   ]
  },
  {
   "cell_type": "code",
   "execution_count": 7,
   "metadata": {},
   "outputs": [
    {
     "data": {
      "text/plain": [
       "{'src': 'ja',\n",
       " 'dest': 'en',\n",
       " 'origin': '前田たかひろ',\n",
       " 'text': 'Maeda Takahiro',\n",
       " 'pronunciation': None,\n",
       " 'extra_data': {'confidence': None,\n",
       "  'parts': [<googletrans.models.TranslatedPart at 0x7fc49e247f70>],\n",
       "  'origin_pronunciation': 'Maeda takahiro',\n",
       "  'parsed': [['Maeda takahiro', None, 'ja', [[[0, [[[None, 6]], [True]]]], 6]],\n",
       "   [[[None,\n",
       "      None,\n",
       "      None,\n",
       "      None,\n",
       "      None,\n",
       "      [['Maeda Takahiro',\n",
       "        None,\n",
       "        None,\n",
       "        None,\n",
       "        [['Maeda Takahiro', [5]], ['Maeda Takayo Hiro', [11]]]]]]],\n",
       "    'en',\n",
       "    1,\n",
       "    'ja',\n",
       "    ['前田たかひろ', 'auto', 'en', True]],\n",
       "   'ja']},\n",
       " 'parts': [{'text': 'Maeda Takahiro', 'candidates': None}]}"
      ]
     },
     "execution_count": 7,
     "metadata": {},
     "output_type": "execute_result"
    }
   ],
   "source": [
    "retval.__dict__()\n"
   ]
  },
  {
   "cell_type": "code",
   "execution_count": 12,
   "metadata": {},
   "outputs": [
    {
     "name": "stdout",
     "output_type": "stream",
     "text": [
      "========================= masterManualEntries(install=False) =========================\n",
      "Current Time is Tue Nov 23, 2021 14:35 for Getting Manual Entries Data From Main Pickle File\n",
      "Process [Getting Manual Entries Data From Main Pickle File] Took 0.7 Seconds\n"
     ]
    }
   ],
   "source": [
    "%autoreload\n",
    "from masterManualEntries import masterManualEntries\n",
    "mme = masterManualEntries()\n",
    "#mme.writeToMainPickleFromLocalYAML()\n",
    "mmeDF = mme.getDataFrame()"
   ]
  },
  {
   "cell_type": "code",
   "execution_count": 13,
   "metadata": {},
   "outputs": [
    {
     "data": {
      "text/plain": [
       "(431647, 11)"
      ]
     },
     "execution_count": 13,
     "metadata": {},
     "output_type": "execute_result"
    }
   ],
   "source": [
    "mmeDF.shape"
   ]
  },
  {
   "cell_type": "code",
   "execution_count": 14,
   "metadata": {},
   "outputs": [],
   "source": [
    "import regex\n",
    "\n",
    "def getLatin(value):\n",
    "    return regex.compile(r\"[\\p{IsLatin}]+\").search(value)\n",
    "def getKorean(value):\n",
    "    return regex.compile(r\"[\\p{IsHangul}]+\").search(value)\n",
    "def getThai(value):\n",
    "    return regex.compile(r\"[\\p{IsThai}]+\").search(value)\n",
    "def getHebrew(value):\n",
    "    return regex.compile(r\"[\\p{IsHebrew}]+\").search(value)\n",
    "def getRussian(value):\n",
    "    return regex.compile(r\"[\\p{IsCyrillic}]+\").search(value)\n",
    "def getGreek(value):\n",
    "    return regex.compile(r\"[α-ωΑ-Ω]+\").search(value)\n",
    "def getArabic(value):\n",
    "    return regex.compile(r\"^[\\u0621-\\u064A\\u0660-\\u0669]+$\").search(value)\n",
    "def getArmenian(value):\n",
    "    return regex.compile(r\"^[\\u0561-\\u0587\\u0531-\\u0556]+$\").search(value)\n",
    "def getChinese(value):\n",
    "    return regex.compile(r\"[\\p{IsHan}]+\").search(value)\n",
    "def getJapanese(value):\n",
    "    return regex.compile(r\"[\\p{IsHira}\\p{IsKatakana}]+\").search(value)\n",
    "def getJCese(value):\n",
    "    return regex.compile(r\"[\\p{IsHan}\\p{IsBopo}\\p{IsHira}\\p{IsKatakana}]+\").search(value)    \n",
    "def getVietnamese(value):\n",
    "    return regex.compile(r\"[ườầ]+\").search(value)\n",
    "def getSlavic(value):\n",
    "    return regex.compile(r\"[ĆćĚěŠšČčŘřŽžÝýďŤťĎŇňŮů]+\").search(value)\n",
    "def getGerman(value):\n",
    "    return regex.compile(r\"[ß]+\").search(value)\n",
    "def getScandinavian(value):\n",
    "    return regex.compile(r\"[æøåÆØÅ]+\").search(value)\n",
    "def getIcelandic(value):\n",
    "    return regex.compile(r\"[ðÐþÞ]+\").search(value)\n",
    "def getPolish(value):\n",
    "    return regex.compile(r\"[ĄąĘęŁłŃńŚśŹźŻż]+\").search(value)\n",
    "def getFrench(value):\n",
    "    return regex.compile(r\"[ÂâÊêËëÎîÏïÔôÛûŸÿçœ]+\").search(value)\n",
    "def getPortuguese(value):\n",
    "    return regex.compile(r\"[ÃãÕõ]+\").search(value)\n",
    "def getSpanish(value):\n",
    "    return regex.compile(r\"[¡ñ]+\").search(value)\n",
    "def getSpecial(value):\n",
    "    return regex.compile(r\"[‒’„“‐ʻēū]+\").search(value)\n",
    "def getRomanian(value):\n",
    "    return regex.compile(r\"[ĂăȘșȚț]+\").search(value)\n",
    "def getHungarian(value):\n",
    "    return regex.compile(r\"[Őő]+\").search(value)\n",
    "def getUmlaut(value):\n",
    "    return regex.compile(r\"[äöüÄÖÜ]+\").search(value)\n",
    "def getAccentAcute(value):\n",
    "    return regex.compile(r\"[ÁáÉéÍíÓóÚú]+\").search(value)\n",
    "def getAccentGrave(value):\n",
    "    return regex.compile(r\"[ÀàÈèÌìÒòÙù]+\").search(value)\n",
    "    \n",
    "def getDJMC(value):\n",
    "    return sum([value.startswith(y) for y in [\"DJ \", \"Dj \", \" DJ\", \" Dj\", \"Lil \", \"Lil' \", \"MC \", \"D.J.\"]]) > 0\n",
    "def getClassical(value):\n",
    "    return sum([value.find(y) != -1 for y in [\"Theatre\", \"Theater\", \"Chorus\", \"Orchestra\"]]) > 0\n",
    "def getAnd(value):\n",
    "    return sum([value.find(y) != -1 for y in [\" And \", \" and \", \" & \"]]) > 0\n",
    "def getSlash(value):\n",
    "    return sum([value.find(y) != -1 for y in [\"+\", \"/\", \"*\", \"?\", \"'\"]]) > 0\n",
    "def getDash(value):\n",
    "    return sum([value.find(y) != -1 for y in [\"-\", \".\", \",\"]]) > 0\n",
    "def getNumerical(value):\n",
    "    return value.isdigit()\n",
    "def getSingleWord(value):\n",
    "    return len(value.split()) == 1\n",
    "def getFourWords(value):\n",
    "    return len(value.split()) >= 4\n",
    "    \n",
    "\n",
    "\n",
    "\n",
    "def getNum(x):\n",
    "    if getKorean(x) is not None:\n",
    "        return \"Korean\"\n",
    "    elif getJapanese(x) is not None:\n",
    "        return \"Japanese\"\n",
    "    elif getChinese(x) is not None:\n",
    "        return \"Chinese\"\n",
    "    elif getJCese(x) is not None:\n",
    "        return \"Xese\"\n",
    "    elif getThai(x) is not None:\n",
    "        return \"Thai\"\n",
    "    elif getVietnamese(x) is not None:\n",
    "        return \"Vietnamese\"\n",
    "    elif getHebrew(x) is not None:\n",
    "        return \"Hebrew\"\n",
    "    elif getArabic(x) is not None:\n",
    "        return \"Arabic\"\n",
    "    elif getArmenian(x) is not None:\n",
    "        return \"Armenian\"\n",
    "    elif getRussian(x) is not None:\n",
    "        return \"Russian\"\n",
    "    elif getGreek(x) is not None:\n",
    "        return \"Greek\"\n",
    "    elif getIcelandic(x) is not None:\n",
    "        return \"Icelandic\"\n",
    "    elif getRomanian(x) is not None:\n",
    "        return \"Romanian\"\n",
    "    elif getHungarian(x) is not None:\n",
    "        return \"Hungarian\"\n",
    "    elif getScandinavian(x) is not None:\n",
    "        return \"Scandinavian\"\n",
    "    elif getPolish(x) is not None:\n",
    "        return \"Polish\"\n",
    "    elif getSlavic(x) is not None:\n",
    "        return \"Slavic\"\n",
    "    elif getUmlaut(x) is not None:\n",
    "        return \"Umlaut\"\n",
    "    elif getGerman(x) is not None:\n",
    "        return \"German\"\n",
    "    elif getSpanish(x) is not None:\n",
    "        return \"Spanish\"\n",
    "    elif getPortuguese(x) is not None:\n",
    "        return \"Portuguese\"\n",
    "    elif getAccentGrave(x) is not None:\n",
    "        return \"Grave\"\n",
    "    elif getAccentAcute(x) is not None:\n",
    "        return \"Acute\"\n",
    "    elif getSpecial(x) is not None:\n",
    "        return \"Special\"\n",
    "    else:\n",
    "        if getDJMC(x):\n",
    "            return \"DJMC\"\n",
    "        elif getClassical(x):\n",
    "            return \"Classical\"\n",
    "        elif getAnd(x):\n",
    "            return \"And\"\n",
    "        elif getSlash(x):\n",
    "            return \"Slash\"\n",
    "        elif getDash(x):\n",
    "            return \"Dash\"\n",
    "        elif getNumerical(x):\n",
    "            return \"Numerical\"\n",
    "        elif getSingleWord(x):\n",
    "            return \"SingleWord\"\n",
    "        elif getFourWords(x):\n",
    "            return \"FourWords\"\n",
    "        elif getLatin(x) is not None:\n",
    "            return \"Latin\"\n",
    "        else:\n",
    "            return \"Regular\""
   ]
  },
  {
   "cell_type": "code",
   "execution_count": null,
   "metadata": {},
   "outputs": [],
   "source": [
    "mmeDF[]"
   ]
  }
 ],
 "metadata": {
  "kernelspec": {
   "display_name": "Python 3 (ipykernel)",
   "language": "python",
   "name": "python3"
  },
  "language_info": {
   "codemirror_mode": {
    "name": "ipython",
    "version": 3
   },
   "file_extension": ".py",
   "mimetype": "text/x-python",
   "name": "python",
   "nbconvert_exporter": "python",
   "pygments_lexer": "ipython3",
   "version": "3.9.7"
  },
  "toc": {
   "base_numbering": 1,
   "nav_menu": {},
   "number_sections": true,
   "sideBar": true,
   "skip_h1_title": false,
   "title_cell": "Table of Contents",
   "title_sidebar": "Contents",
   "toc_cell": false,
   "toc_position": {},
   "toc_section_display": true,
   "toc_window_display": false
  }
 },
 "nbformat": 4,
 "nbformat_minor": 4
}
