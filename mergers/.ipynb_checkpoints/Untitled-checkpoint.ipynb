{
 "cells": [
  {
   "cell_type": "code",
   "execution_count": 4,
   "metadata": {},
   "outputs": [],
   "source": [
    "from pandas import DataFrame\n",
    "from ioUtils import getFile\n",
    "manualEntries = getFile(\"manualEntries.yaml\")\n",
    "medf = DataFrame(manualEntries).T\n",
    "artistCnts = medf[\"ArtistName\"].value_counts()"
   ]
  },
  {
   "cell_type": "code",
   "execution_count": 8,
   "metadata": {},
   "outputs": [
    {
     "data": {
      "text/plain": [
       "Baby's Gang             2\n",
       "Shogun                  2\n",
       "Odyssey                 2\n",
       "Solace                  2\n",
       "Sonny Boy Williamson    2\n",
       "Gabrielle               2\n",
       "Marion                  2\n",
       "Paradox                 2\n",
       "Doyle Lawson            2\n",
       "Sniper                  2\n",
       "Robin                   2\n",
       "Charlie Parker          2\n",
       "Kamelot                 2\n",
       "Jimmie Rodgers          2\n",
       "Nirvana                 2\n",
       "Lenny Dee               2\n",
       "LFO                     2\n",
       "Tank                    2\n",
       "Deuce                   2\n",
       "The Shoes               2\n",
       "Magic!                  2\n",
       "Turbo                   2\n",
       "Mono                    2\n",
       "Cast                    2\n",
       "Howard Jones            2\n",
       "Name: ArtistName, dtype: int64"
      ]
     },
     "execution_count": 8,
     "metadata": {},
     "output_type": "execute_result"
    }
   ],
   "source": [
    "artistCnts.head(100).tail(25)"
   ]
  },
  {
   "cell_type": "code",
   "execution_count": null,
   "metadata": {},
   "outputs": [],
   "source": [
    "# Assassin -> 4\n",
    "# Juju -> 4\n",
    "# Exile -> 3\n",
    "# Kamelot -> 2\n",
    "# Sonny Boy Williamson -> 2\n",
    "# Jimmie Rodgers"
   ]
  }
 ],
 "metadata": {
  "kernelspec": {
   "display_name": "Python 3",
   "language": "python",
   "name": "python3"
  },
  "language_info": {
   "codemirror_mode": {
    "name": "ipython",
    "version": 3
   },
   "file_extension": ".py",
   "mimetype": "text/x-python",
   "name": "python",
   "nbconvert_exporter": "python",
   "pygments_lexer": "ipython3",
   "version": "3.7.7"
  },
  "toc": {
   "base_numbering": 1,
   "nav_menu": {},
   "number_sections": true,
   "sideBar": true,
   "skip_h1_title": false,
   "title_cell": "Table of Contents",
   "title_sidebar": "Contents",
   "toc_cell": false,
   "toc_position": {},
   "toc_section_display": true,
   "toc_window_display": false
  }
 },
 "nbformat": 4,
 "nbformat_minor": 4
}
